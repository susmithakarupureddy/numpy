{
 "cells": [
  {
   "cell_type": "code",
   "execution_count": 3,
   "id": "5c2f80c2",
   "metadata": {},
   "outputs": [
    {
     "name": "stdout",
     "output_type": "stream",
     "text": [
      "[0 0 0]\n"
     ]
    }
   ],
   "source": [
    "import numpy as np\n",
    "a=np.zeros(3,dtype=int)\n",
    "print(a)"
   ]
  },
  {
   "cell_type": "code",
   "execution_count": 2,
   "id": "450e493f",
   "metadata": {},
   "outputs": [
    {
     "name": "stdout",
     "output_type": "stream",
     "text": [
      "[1 1 1]\n"
     ]
    }
   ],
   "source": [
    "a=np.ones(3,dtype=int)\n",
    "print(a)"
   ]
  },
  {
   "cell_type": "code",
   "execution_count": 12,
   "id": "177a7e42",
   "metadata": {},
   "outputs": [
    {
     "name": "stdout",
     "output_type": "stream",
     "text": [
      "1\n",
      "2\n",
      "3\n",
      "4\n",
      "6\n"
     ]
    }
   ],
   "source": [
    "np.arr=[1,2,3,4,6]\n",
    "for i in arr:\n",
    "    print(i)"
   ]
  },
  {
   "cell_type": "code",
   "execution_count": null,
   "id": "4de2cf59",
   "metadata": {},
   "outputs": [],
   "source": []
  },
  {
   "cell_type": "code",
   "execution_count": 26,
   "id": "5304a90b",
   "metadata": {},
   "outputs": [
    {
     "name": "stdout",
     "output_type": "stream",
     "text": [
      "Original array:\n",
      "Counter({1: 4, 2: 2, 3: 1, 4: 1, 5: 1, 9: 1})\n"
     ]
    }
   ],
   "source": [
    "import collections\n",
    "x = np.array([1,2,3,4,5,1,2,1,9,1])\n",
    "print(\"Original array:\")\n",
    "counter = collections.Counter(x)\n",
    "print(counter)"
   ]
  },
  {
   "cell_type": "code",
   "execution_count": 23,
   "id": "63507c24",
   "metadata": {},
   "outputs": [
    {
     "data": {
      "text/plain": [
       "2"
      ]
     },
     "execution_count": 23,
     "metadata": {},
     "output_type": "execute_result"
    }
   ],
   "source": [
    "s=np.array([1,2,2,5,6,7,7])\n",
    "np.count_nonzero(s==2)"
   ]
  },
  {
   "cell_type": "code",
   "execution_count": 46,
   "id": "115e28d8",
   "metadata": {},
   "outputs": [
    {
     "name": "stdout",
     "output_type": "stream",
     "text": [
      "enter the size3\n",
      "enter the value1\n",
      "enter the value2\n",
      "enter the value3\n",
      "[1, 2, 3]\n"
     ]
    }
   ],
   "source": [
    "\n",
    "a=[]\n",
    "n=int(input(\"enter the size\"))\n",
    "for i in range(n):\n",
    "    d=int(input(\"enter the value\"))\n",
    "    a.append(d)\n",
    "print(a)"
   ]
  },
  {
   "cell_type": "markdown",
   "id": "54353bd0",
   "metadata": {},
   "source": []
  },
  {
   "cell_type": "code",
   "execution_count": 51,
   "id": "f54d01a1",
   "metadata": {},
   "outputs": [
    {
     "name": "stdout",
     "output_type": "stream",
     "text": [
      "enter the numbers5\n",
      "5\n",
      "5\n",
      "5\n",
      "5\n",
      "5\n",
      "5\n"
     ]
    }
   ],
   "source": [
    "a=int(input(\"enter the numbers\"))\n",
    "for i in a:\n",
    "    if a>4:\n",
    "        print(a)\n"
   ]
  },
  {
   "cell_type": "code",
   "execution_count": 54,
   "id": "2a17869b",
   "metadata": {},
   "outputs": [
    {
     "name": "stdout",
     "output_type": "stream",
     "text": [
      "False\n"
     ]
    }
   ],
   "source": [
    "a=[1,2,3,4,5,6]\n",
    "print(7 in a)"
   ]
  },
  {
   "cell_type": "code",
   "execution_count": 58,
   "id": "d830d3ff",
   "metadata": {},
   "outputs": [
    {
     "data": {
      "text/plain": [
       "6"
      ]
     },
     "execution_count": 58,
     "metadata": {},
     "output_type": "execute_result"
    }
   ],
   "source": [
    "a=[1,2,3,4,5,6]\n",
    "max(a)"
   ]
  },
  {
   "cell_type": "code",
   "execution_count": 57,
   "id": "b0e3224b",
   "metadata": {},
   "outputs": [
    {
     "data": {
      "text/plain": [
       "1"
      ]
     },
     "execution_count": 57,
     "metadata": {},
     "output_type": "execute_result"
    }
   ],
   "source": [
    "min(a)"
   ]
  },
  {
   "cell_type": "code",
   "execution_count": 60,
   "id": "c06e8b88",
   "metadata": {},
   "outputs": [
    {
     "name": "stdout",
     "output_type": "stream",
     "text": [
      "[1, 2, 3, 4, 5, 6]\n",
      "3\n"
     ]
    }
   ],
   "source": [
    "a=[1,2,3,4,5,6]\n",
    "k=4\n",
    "print(a)\n",
    "count=0\n",
    "for i in a:\n",
    "     if i<k:\n",
    "            count=count+1\n",
    "print(count)"
   ]
  },
  {
   "cell_type": "code",
   "execution_count": null,
   "id": "b5ed3df7",
   "metadata": {},
   "outputs": [],
   "source": []
  }
 ],
 "metadata": {
  "kernelspec": {
   "display_name": "Python 3 (ipykernel)",
   "language": "python",
   "name": "python3"
  },
  "language_info": {
   "codemirror_mode": {
    "name": "ipython",
    "version": 3
   },
   "file_extension": ".py",
   "mimetype": "text/x-python",
   "name": "python",
   "nbconvert_exporter": "python",
   "pygments_lexer": "ipython3",
   "version": "3.9.7"
  }
 },
 "nbformat": 4,
 "nbformat_minor": 5
}
